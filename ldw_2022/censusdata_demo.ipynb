{
 "cells": [
  {
   "cell_type": "markdown",
   "metadata": {},
   "source": [
    "# Censusdata package demo\n",
    "In this demo, we will run exercises based on the examples mentioned in the [censusdata package documentation](https://jtleider.github.io/censusdata/example1.html). In this demo we will:\n",
    "- Searching for education and employment related variables.\n",
    "- Searching for state and county FIPS codes.\n",
    "- Download block group data for St. Louis City.\n",
    "- Calculating the percent unemployed and percent that didn't obtain a high school diploma.\n",
    "- Exporting data into csv files."
   ]
  },
  {
   "cell_type": "markdown",
   "metadata": {},
   "source": [
    "## Installing the packages\n",
    "To do this demo, you will need to install the censusdata, pandas, and tabulate packages. "
   ]
  },
  {
   "cell_type": "code",
   "execution_count": null,
   "metadata": {},
   "outputs": [],
   "source": [
    "# Installing necessary pip packages in the current Jupyter kernel\n",
    "import sys\n",
    "!{sys.executable} -m pip install censusdata\n",
    "!{sys.executable} -m pip install pandas"
   ]
  },
  {
   "cell_type": "markdown",
   "metadata": {},
   "source": [
    "## Importing the packages\n",
    "Now we need to import the packages."
   ]
  },
  {
   "cell_type": "code",
   "execution_count": 1,
   "metadata": {},
   "outputs": [],
   "source": [
    "import pandas as pd\n",
    "import censusdata"
   ]
  },
  {
   "cell_type": "code",
   "execution_count": 2,
   "metadata": {},
   "outputs": [],
   "source": [
    "# display.expand_frame_repr allows for the representation\n",
    "#  of dataframes to stretch across pages, wrapped over the full column vs row-wise.\n",
    "pd.set_option('display.expand_frame_repr', False)\n",
    "\n",
    "# display.precision sets the output display precision in terms of decimal places.\n",
    "pd.set_option('display.precision', 2)"
   ]
  },
  {
   "cell_type": "markdown",
   "metadata": {},
   "source": [
    "# Searching for unemployment variables\n",
    "We will be searching for Census data regarding unemployment from the [American Community Survey (ACS) five year estimates](https://www.census.gov/programs-surveys/acs/about.html). The variables we will be looking up are:\n",
    "- Unemployment at or above poverty level with a disability for those for the population 20 - 64 years old.\n",
    "- Unemployment at or above poverty level without a disability for those for the population 20 - 64 years old.\n",
    "- Total unemployed in the labor force for the population over 16 years old.\n",
    "- Total unemployed in the labor force by employment status by age.\n",
    "- Health insurance coverage status and type by age amongst the total unemployed.\n",
    "- Health insruance coverage status and type by age amongst the unemployed between 18 - 64 years.\n",
    "- Health insurance coverage status and type by age amongst the unemployed between 18 - 64 years with health insurance coverage.\n",
    "- Health insurance coverage status and type by age amongst the unemployed between 18 - 64 years with health insurance coverages with private health insurance coverage.\n",
    "- Health insurance coverage status and type by age amongst the unemployed between 18 - 64 years with private health insurance coverage.\n",
    "- Health insurance coverage status and type by age amongst the unemployed between 18 - 64 years with public health insurance coverage.\n",
    "- Total without health insurance that are unemployed and between 18 - 64 years.\n",
    "- Total in labor force, unemployed, 65 years and over."
   ]
  },
  {
   "cell_type": "code",
   "execution_count": 3,
   "metadata": {},
   "outputs": [
    {
     "data": {
      "text/plain": [
       "[('B23024_023E',\n",
       "  'POVERTY STATUS IN THE PAST 12 MONTHS BY DISABILITY STATUS BY EMPLOYMENT STATUS FOR THE POPULATION 20 TO 64 YEARS',\n",
       "  'Estimate!!Total!!Income in the past 12 months at or above poverty level!!With a disability!!In labor force!!Civilian!!Unemployed'),\n",
       " ('B23024_030E',\n",
       "  'POVERTY STATUS IN THE PAST 12 MONTHS BY DISABILITY STATUS BY EMPLOYMENT STATUS FOR THE POPULATION 20 TO 64 YEARS',\n",
       "  'Estimate!!Total!!Income in the past 12 months at or above poverty level!!No disability!!In labor force!!Civilian!!Unemployed'),\n",
       " ('B23025_005E',\n",
       "  'EMPLOYMENT STATUS FOR THE POPULATION 16 YEARS AND OVER',\n",
       "  'Estimate!!Total!!In labor force!!Civilian labor force!!Unemployed'),\n",
       " ('B27011_014E',\n",
       "  'HEALTH INSURANCE COVERAGE STATUS AND TYPE BY EMPLOYMENT STATUS BY AGE',\n",
       "  'Estimate!!Total!!In labor force!!Unemployed'),\n",
       " ('B27011_015E',\n",
       "  'HEALTH INSURANCE COVERAGE STATUS AND TYPE BY EMPLOYMENT STATUS BY AGE',\n",
       "  'Estimate!!Total!!In labor force!!Unemployed!!18 to 64 years'),\n",
       " ('B27011_016E',\n",
       "  'HEALTH INSURANCE COVERAGE STATUS AND TYPE BY EMPLOYMENT STATUS BY AGE',\n",
       "  'Estimate!!Total!!In labor force!!Unemployed!!18 to 64 years!!With health insurance coverage'),\n",
       " ('B27011_017E',\n",
       "  'HEALTH INSURANCE COVERAGE STATUS AND TYPE BY EMPLOYMENT STATUS BY AGE',\n",
       "  'Estimate!!Total!!In labor force!!Unemployed!!18 to 64 years!!With health insurance coverage!!With private health insurance'),\n",
       " ('B27011_018E',\n",
       "  'HEALTH INSURANCE COVERAGE STATUS AND TYPE BY EMPLOYMENT STATUS BY AGE',\n",
       "  'Estimate!!Total!!In labor force!!Unemployed!!18 to 64 years!!With health insurance coverage!!With public coverage'),\n",
       " ('B27011_019E',\n",
       "  'HEALTH INSURANCE COVERAGE STATUS AND TYPE BY EMPLOYMENT STATUS BY AGE',\n",
       "  'Estimate!!Total!!In labor force!!Unemployed!!18 to 64 years!!No health insurance coverage'),\n",
       " ('B27011_020E',\n",
       "  'HEALTH INSURANCE COVERAGE STATUS AND TYPE BY EMPLOYMENT STATUS BY AGE',\n",
       "  'Estimate!!Total!!In labor force!!Unemployed!!65 years and over')]"
      ]
     },
     "execution_count": 3,
     "metadata": {},
     "output_type": "execute_result"
    }
   ],
   "source": [
    "censusdata.search('acs5', 2015, 'label', 'unemploy')[80:90]"
   ]
  },
  {
   "cell_type": "markdown",
   "metadata": {},
   "source": [
    "We can also print the variables of interest in a given table. For example, let's look up the variables that are listed in table B23025 which is **Employment Status for the Population 16 Years and Older**. "
   ]
  },
  {
   "cell_type": "code",
   "execution_count": 4,
   "metadata": {},
   "outputs": [
    {
     "name": "stdout",
     "output_type": "stream",
     "text": [
      "Variable     | Table                          | Label                                                    | Type \n",
      "-------------------------------------------------------------------------------------------------------------------\n",
      "B23025_001E  | EMPLOYMENT STATUS FOR THE POPU | !! Estimate Total                                        | int  \n",
      "B23025_002E  | EMPLOYMENT STATUS FOR THE POPU | !! !! Estimate Total In labor force                      | int  \n",
      "B23025_003E  | EMPLOYMENT STATUS FOR THE POPU | !! !! !! Estimate Total In labor force Civilian labor fo | int  \n",
      "B23025_004E  | EMPLOYMENT STATUS FOR THE POPU | !! !! !! !! Estimate Total In labor force Civilian labor | int  \n",
      "B23025_005E  | EMPLOYMENT STATUS FOR THE POPU | !! !! !! !! Estimate Total In labor force Civilian labor | int  \n",
      "B23025_006E  | EMPLOYMENT STATUS FOR THE POPU | !! !! !! Estimate Total In labor force Armed Forces      | int  \n",
      "B23025_007E  | EMPLOYMENT STATUS FOR THE POPU | !! !! Estimate Total Not in labor force                  | int  \n",
      "-------------------------------------------------------------------------------------------------------------------\n"
     ]
    }
   ],
   "source": [
    "censusdata.printtable(censusdata.censustable('acs5', 2015, 'B23025'))"
   ]
  },
  {
   "cell_type": "markdown",
   "metadata": {},
   "source": [
    "# Searching for education variables\n",
    "The variables of interest we are looking for are focused on: \n",
    "- Educational attainment for the population 25 years and over based on grade level by sex (female) and the total population.\n",
    "- Educational attainment for the population 25 years and over by language spoken at home."
   ]
  },
  {
   "cell_type": "code",
   "execution_count": 5,
   "metadata": {},
   "outputs": [
    {
     "data": {
      "text/plain": [
       "[('B15002_020E',\n",
       "  'SEX BY EDUCATIONAL ATTAINMENT FOR THE POPULATION 25 YEARS AND OVER',\n",
       "  'Estimate!!Total!!Female!!No schooling completed'),\n",
       " ('B15002_021E',\n",
       "  'SEX BY EDUCATIONAL ATTAINMENT FOR THE POPULATION 25 YEARS AND OVER',\n",
       "  'Estimate!!Total!!Female!!Nursery to 4th grade'),\n",
       " ('B15002_022E',\n",
       "  'SEX BY EDUCATIONAL ATTAINMENT FOR THE POPULATION 25 YEARS AND OVER',\n",
       "  'Estimate!!Total!!Female!!5th and 6th grade'),\n",
       " ('B15002_023E',\n",
       "  'SEX BY EDUCATIONAL ATTAINMENT FOR THE POPULATION 25 YEARS AND OVER',\n",
       "  'Estimate!!Total!!Female!!7th and 8th grade'),\n",
       " ('B15002_024E',\n",
       "  'SEX BY EDUCATIONAL ATTAINMENT FOR THE POPULATION 25 YEARS AND OVER',\n",
       "  'Estimate!!Total!!Female!!9th grade'),\n",
       " ('B15002_025E',\n",
       "  'SEX BY EDUCATIONAL ATTAINMENT FOR THE POPULATION 25 YEARS AND OVER',\n",
       "  'Estimate!!Total!!Female!!10th grade'),\n",
       " ('B15002_026E',\n",
       "  'SEX BY EDUCATIONAL ATTAINMENT FOR THE POPULATION 25 YEARS AND OVER',\n",
       "  'Estimate!!Total!!Female!!11th grade'),\n",
       " ('B15002_027E',\n",
       "  'SEX BY EDUCATIONAL ATTAINMENT FOR THE POPULATION 25 YEARS AND OVER',\n",
       "  'Estimate!!Total!!Female!!12th grade, no diploma'),\n",
       " ('B15002_028E',\n",
       "  'SEX BY EDUCATIONAL ATTAINMENT FOR THE POPULATION 25 YEARS AND OVER',\n",
       "  'Estimate!!Total!!Female!!High school graduate (includes equivalency)'),\n",
       " ('B15002_029E',\n",
       "  'SEX BY EDUCATIONAL ATTAINMENT FOR THE POPULATION 25 YEARS AND OVER',\n",
       "  'Estimate!!Total!!Female!!Some college, less than 1 year'),\n",
       " ('B15002_030E',\n",
       "  'SEX BY EDUCATIONAL ATTAINMENT FOR THE POPULATION 25 YEARS AND OVER',\n",
       "  'Estimate!!Total!!Female!!Some college, 1 or more years, no degree'),\n",
       " ('B15002_031E',\n",
       "  'SEX BY EDUCATIONAL ATTAINMENT FOR THE POPULATION 25 YEARS AND OVER',\n",
       "  \"Estimate!!Total!!Female!!Associate's degree\"),\n",
       " ('B15002_032E',\n",
       "  'SEX BY EDUCATIONAL ATTAINMENT FOR THE POPULATION 25 YEARS AND OVER',\n",
       "  \"Estimate!!Total!!Female!!Bachelor's degree\"),\n",
       " ('B15002_033E',\n",
       "  'SEX BY EDUCATIONAL ATTAINMENT FOR THE POPULATION 25 YEARS AND OVER',\n",
       "  \"Estimate!!Total!!Female!!Master's degree\"),\n",
       " ('B15002_034E',\n",
       "  'SEX BY EDUCATIONAL ATTAINMENT FOR THE POPULATION 25 YEARS AND OVER',\n",
       "  'Estimate!!Total!!Female!!Professional school degree'),\n",
       " ('B15002_035E',\n",
       "  'SEX BY EDUCATIONAL ATTAINMENT FOR THE POPULATION 25 YEARS AND OVER',\n",
       "  'Estimate!!Total!!Female!!Doctorate degree'),\n",
       " ('B15003_001E',\n",
       "  'EDUCATIONAL ATTAINMENT FOR THE POPULATION 25 YEARS AND OVER',\n",
       "  'Estimate!!Total'),\n",
       " ('B15003_002E',\n",
       "  'EDUCATIONAL ATTAINMENT FOR THE POPULATION 25 YEARS AND OVER',\n",
       "  'Estimate!!Total!!No schooling completed'),\n",
       " ('B15003_003E',\n",
       "  'EDUCATIONAL ATTAINMENT FOR THE POPULATION 25 YEARS AND OVER',\n",
       "  'Estimate!!Total!!Nursery school'),\n",
       " ('B15003_004E',\n",
       "  'EDUCATIONAL ATTAINMENT FOR THE POPULATION 25 YEARS AND OVER',\n",
       "  'Estimate!!Total!!Kindergarten'),\n",
       " ('B15003_005E',\n",
       "  'EDUCATIONAL ATTAINMENT FOR THE POPULATION 25 YEARS AND OVER',\n",
       "  'Estimate!!Total!!1st grade'),\n",
       " ('B15003_006E',\n",
       "  'EDUCATIONAL ATTAINMENT FOR THE POPULATION 25 YEARS AND OVER',\n",
       "  'Estimate!!Total!!2nd grade'),\n",
       " ('B15003_007E',\n",
       "  'EDUCATIONAL ATTAINMENT FOR THE POPULATION 25 YEARS AND OVER',\n",
       "  'Estimate!!Total!!3rd grade'),\n",
       " ('B15003_008E',\n",
       "  'EDUCATIONAL ATTAINMENT FOR THE POPULATION 25 YEARS AND OVER',\n",
       "  'Estimate!!Total!!4th grade'),\n",
       " ('B15003_009E',\n",
       "  'EDUCATIONAL ATTAINMENT FOR THE POPULATION 25 YEARS AND OVER',\n",
       "  'Estimate!!Total!!5th grade'),\n",
       " ('B15003_010E',\n",
       "  'EDUCATIONAL ATTAINMENT FOR THE POPULATION 25 YEARS AND OVER',\n",
       "  'Estimate!!Total!!6th grade'),\n",
       " ('B15003_011E',\n",
       "  'EDUCATIONAL ATTAINMENT FOR THE POPULATION 25 YEARS AND OVER',\n",
       "  'Estimate!!Total!!7th grade'),\n",
       " ('B15003_012E',\n",
       "  'EDUCATIONAL ATTAINMENT FOR THE POPULATION 25 YEARS AND OVER',\n",
       "  'Estimate!!Total!!8th grade'),\n",
       " ('B15003_013E',\n",
       "  'EDUCATIONAL ATTAINMENT FOR THE POPULATION 25 YEARS AND OVER',\n",
       "  'Estimate!!Total!!9th grade'),\n",
       " ('B15003_014E',\n",
       "  'EDUCATIONAL ATTAINMENT FOR THE POPULATION 25 YEARS AND OVER',\n",
       "  'Estimate!!Total!!10th grade'),\n",
       " ('B15003_015E',\n",
       "  'EDUCATIONAL ATTAINMENT FOR THE POPULATION 25 YEARS AND OVER',\n",
       "  'Estimate!!Total!!11th grade'),\n",
       " ('B15003_016E',\n",
       "  'EDUCATIONAL ATTAINMENT FOR THE POPULATION 25 YEARS AND OVER',\n",
       "  'Estimate!!Total!!12th grade, no diploma'),\n",
       " ('B15003_017E',\n",
       "  'EDUCATIONAL ATTAINMENT FOR THE POPULATION 25 YEARS AND OVER',\n",
       "  'Estimate!!Total!!Regular high school diploma'),\n",
       " ('B15003_018E',\n",
       "  'EDUCATIONAL ATTAINMENT FOR THE POPULATION 25 YEARS AND OVER',\n",
       "  'Estimate!!Total!!GED or alternative credential'),\n",
       " ('B15003_019E',\n",
       "  'EDUCATIONAL ATTAINMENT FOR THE POPULATION 25 YEARS AND OVER',\n",
       "  'Estimate!!Total!!Some college, less than 1 year'),\n",
       " ('B15003_020E',\n",
       "  'EDUCATIONAL ATTAINMENT FOR THE POPULATION 25 YEARS AND OVER',\n",
       "  'Estimate!!Total!!Some college, 1 or more years, no degree'),\n",
       " ('B15003_021E',\n",
       "  'EDUCATIONAL ATTAINMENT FOR THE POPULATION 25 YEARS AND OVER',\n",
       "  \"Estimate!!Total!!Associate's degree\"),\n",
       " ('B15003_022E',\n",
       "  'EDUCATIONAL ATTAINMENT FOR THE POPULATION 25 YEARS AND OVER',\n",
       "  \"Estimate!!Total!!Bachelor's degree\"),\n",
       " ('B15003_023E',\n",
       "  'EDUCATIONAL ATTAINMENT FOR THE POPULATION 25 YEARS AND OVER',\n",
       "  \"Estimate!!Total!!Master's degree\"),\n",
       " ('B15003_024E',\n",
       "  'EDUCATIONAL ATTAINMENT FOR THE POPULATION 25 YEARS AND OVER',\n",
       "  'Estimate!!Total!!Professional school degree'),\n",
       " ('B15003_025E',\n",
       "  'EDUCATIONAL ATTAINMENT FOR THE POPULATION 25 YEARS AND OVER',\n",
       "  'Estimate!!Total!!Doctorate degree'),\n",
       " ('B16010_001E',\n",
       "  'EDUCATIONAL ATTAINMENT AND EMPLOYMENT STATUS BY LANGUAGE SPOKEN AT HOME FOR THE POPULATION 25 YEARS AND OVER',\n",
       "  'Estimate!!Total'),\n",
       " ('B16010_002E',\n",
       "  'EDUCATIONAL ATTAINMENT AND EMPLOYMENT STATUS BY LANGUAGE SPOKEN AT HOME FOR THE POPULATION 25 YEARS AND OVER',\n",
       "  'Estimate!!Total!!Less than high school graduate'),\n",
       " ('B16010_003E',\n",
       "  'EDUCATIONAL ATTAINMENT AND EMPLOYMENT STATUS BY LANGUAGE SPOKEN AT HOME FOR THE POPULATION 25 YEARS AND OVER',\n",
       "  'Estimate!!Total!!Less than high school graduate!!In labor force'),\n",
       " ('B16010_004E',\n",
       "  'EDUCATIONAL ATTAINMENT AND EMPLOYMENT STATUS BY LANGUAGE SPOKEN AT HOME FOR THE POPULATION 25 YEARS AND OVER',\n",
       "  'Estimate!!Total!!Less than high school graduate!!In labor force!!Speak only English'),\n",
       " ('B16010_005E',\n",
       "  'EDUCATIONAL ATTAINMENT AND EMPLOYMENT STATUS BY LANGUAGE SPOKEN AT HOME FOR THE POPULATION 25 YEARS AND OVER',\n",
       "  'Estimate!!Total!!Less than high school graduate!!In labor force!!Speak Spanish'),\n",
       " ('B16010_006E',\n",
       "  'EDUCATIONAL ATTAINMENT AND EMPLOYMENT STATUS BY LANGUAGE SPOKEN AT HOME FOR THE POPULATION 25 YEARS AND OVER',\n",
       "  'Estimate!!Total!!Less than high school graduate!!In labor force!!Speak other Indo-European languages'),\n",
       " ('B16010_007E',\n",
       "  'EDUCATIONAL ATTAINMENT AND EMPLOYMENT STATUS BY LANGUAGE SPOKEN AT HOME FOR THE POPULATION 25 YEARS AND OVER',\n",
       "  'Estimate!!Total!!Less than high school graduate!!In labor force!!Speak Asian and Pacific Island languages'),\n",
       " ('B16010_008E',\n",
       "  'EDUCATIONAL ATTAINMENT AND EMPLOYMENT STATUS BY LANGUAGE SPOKEN AT HOME FOR THE POPULATION 25 YEARS AND OVER',\n",
       "  'Estimate!!Total!!Less than high school graduate!!In labor force!!Speak other languages'),\n",
       " ('B16010_009E',\n",
       "  'EDUCATIONAL ATTAINMENT AND EMPLOYMENT STATUS BY LANGUAGE SPOKEN AT HOME FOR THE POPULATION 25 YEARS AND OVER',\n",
       "  'Estimate!!Total!!Less than high school graduate!!Not in labor force')]"
      ]
     },
     "execution_count": 5,
     "metadata": {},
     "output_type": "execute_result"
    }
   ],
   "source": [
    "censusdata.search('acs5', 2015, 'concept', 'education')[350:400]"
   ]
  },
  {
   "cell_type": "markdown",
   "metadata": {},
   "source": [
    "Like we did above, let's look up the variables that are in a table related to variables pertaining to education. This is listed in table B15003 which is **Educational attainment for the population 25 years and older**."
   ]
  },
  {
   "cell_type": "code",
   "execution_count": 6,
   "metadata": {},
   "outputs": [
    {
     "name": "stdout",
     "output_type": "stream",
     "text": [
      "Variable     | Table                          | Label                                                    | Type \n",
      "-------------------------------------------------------------------------------------------------------------------\n",
      "B15003_001E  | EDUCATIONAL ATTAINMENT FOR THE | !! Estimate Total                                        | int  \n",
      "B15003_002E  | EDUCATIONAL ATTAINMENT FOR THE | !! !! Estimate Total No schooling completed              | int  \n",
      "B15003_003E  | EDUCATIONAL ATTAINMENT FOR THE | !! !! Estimate Total Nursery school                      | int  \n",
      "B15003_004E  | EDUCATIONAL ATTAINMENT FOR THE | !! !! Estimate Total Kindergarten                        | int  \n",
      "B15003_005E  | EDUCATIONAL ATTAINMENT FOR THE | !! !! Estimate Total 1st grade                           | int  \n",
      "B15003_006E  | EDUCATIONAL ATTAINMENT FOR THE | !! !! Estimate Total 2nd grade                           | int  \n",
      "B15003_007E  | EDUCATIONAL ATTAINMENT FOR THE | !! !! Estimate Total 3rd grade                           | int  \n",
      "B15003_008E  | EDUCATIONAL ATTAINMENT FOR THE | !! !! Estimate Total 4th grade                           | int  \n",
      "B15003_009E  | EDUCATIONAL ATTAINMENT FOR THE | !! !! Estimate Total 5th grade                           | int  \n",
      "B15003_010E  | EDUCATIONAL ATTAINMENT FOR THE | !! !! Estimate Total 6th grade                           | int  \n",
      "B15003_011E  | EDUCATIONAL ATTAINMENT FOR THE | !! !! Estimate Total 7th grade                           | int  \n",
      "B15003_012E  | EDUCATIONAL ATTAINMENT FOR THE | !! !! Estimate Total 8th grade                           | int  \n",
      "B15003_013E  | EDUCATIONAL ATTAINMENT FOR THE | !! !! Estimate Total 9th grade                           | int  \n",
      "B15003_014E  | EDUCATIONAL ATTAINMENT FOR THE | !! !! Estimate Total 10th grade                          | int  \n",
      "B15003_015E  | EDUCATIONAL ATTAINMENT FOR THE | !! !! Estimate Total 11th grade                          | int  \n",
      "B15003_016E  | EDUCATIONAL ATTAINMENT FOR THE | !! !! Estimate Total 12th grade, no diploma              | int  \n",
      "B15003_017E  | EDUCATIONAL ATTAINMENT FOR THE | !! !! Estimate Total Regular high school diploma         | int  \n",
      "B15003_018E  | EDUCATIONAL ATTAINMENT FOR THE | !! !! Estimate Total GED or alternative credential       | int  \n",
      "B15003_019E  | EDUCATIONAL ATTAINMENT FOR THE | !! !! Estimate Total Some college, less than 1 year      | int  \n",
      "B15003_020E  | EDUCATIONAL ATTAINMENT FOR THE | !! !! Estimate Total Some college, 1 or more years, no d | int  \n",
      "B15003_021E  | EDUCATIONAL ATTAINMENT FOR THE | !! !! Estimate Total Associate's degree                  | int  \n",
      "B15003_022E  | EDUCATIONAL ATTAINMENT FOR THE | !! !! Estimate Total Bachelor's degree                   | int  \n",
      "B15003_023E  | EDUCATIONAL ATTAINMENT FOR THE | !! !! Estimate Total Master's degree                     | int  \n",
      "B15003_024E  | EDUCATIONAL ATTAINMENT FOR THE | !! !! Estimate Total Professional school degree          | int  \n",
      "B15003_025E  | EDUCATIONAL ATTAINMENT FOR THE | !! !! Estimate Total Doctorate degree                    | int  \n",
      "-------------------------------------------------------------------------------------------------------------------\n"
     ]
    }
   ],
   "source": [
    "censusdata.printtable(censusdata.censustable('acs5', 2015, 'B15003'))"
   ]
  },
  {
   "cell_type": "markdown",
   "metadata": {},
   "source": [
    "# Searching for state FIPS codes\n",
    "Federal Information Processing System codes identify geographic areas. State FIPS codes have two digits, while county level FIPS codes have five digits. For county FIPS codes, the first two digits represents the states while the other three digits represent the county or city. You can look up all of the state FIPS codes using the censusdata.censusgeo function. The * parameter is a wild card operator and will get all of the state FIPS codes for the 2015 American Community Survey 5-Year estimates. "
   ]
  },
  {
   "cell_type": "code",
   "execution_count": 7,
   "metadata": {},
   "outputs": [
    {
     "data": {
      "text/plain": [
       "{'Mississippi': censusgeo((('state', '28'),)),\n",
       " 'Missouri': censusgeo((('state', '29'),)),\n",
       " 'Montana': censusgeo((('state', '30'),)),\n",
       " 'Nebraska': censusgeo((('state', '31'),)),\n",
       " 'Nevada': censusgeo((('state', '32'),)),\n",
       " 'New Hampshire': censusgeo((('state', '33'),)),\n",
       " 'New Jersey': censusgeo((('state', '34'),)),\n",
       " 'New Mexico': censusgeo((('state', '35'),)),\n",
       " 'New York': censusgeo((('state', '36'),)),\n",
       " 'North Carolina': censusgeo((('state', '37'),)),\n",
       " 'North Dakota': censusgeo((('state', '38'),)),\n",
       " 'Ohio': censusgeo((('state', '39'),)),\n",
       " 'Oklahoma': censusgeo((('state', '40'),)),\n",
       " 'Oregon': censusgeo((('state', '41'),)),\n",
       " 'Pennsylvania': censusgeo((('state', '42'),)),\n",
       " 'Rhode Island': censusgeo((('state', '44'),)),\n",
       " 'South Carolina': censusgeo((('state', '45'),)),\n",
       " 'South Dakota': censusgeo((('state', '46'),)),\n",
       " 'Tennessee': censusgeo((('state', '47'),)),\n",
       " 'Texas': censusgeo((('state', '48'),)),\n",
       " 'Vermont': censusgeo((('state', '50'),)),\n",
       " 'Utah': censusgeo((('state', '49'),)),\n",
       " 'Virginia': censusgeo((('state', '51'),)),\n",
       " 'Washington': censusgeo((('state', '53'),)),\n",
       " 'West Virginia': censusgeo((('state', '54'),)),\n",
       " 'Wisconsin': censusgeo((('state', '55'),)),\n",
       " 'Wyoming': censusgeo((('state', '56'),)),\n",
       " 'Puerto Rico': censusgeo((('state', '72'),)),\n",
       " 'Alabama': censusgeo((('state', '01'),)),\n",
       " 'Alaska': censusgeo((('state', '02'),)),\n",
       " 'Arizona': censusgeo((('state', '04'),)),\n",
       " 'Arkansas': censusgeo((('state', '05'),)),\n",
       " 'California': censusgeo((('state', '06'),)),\n",
       " 'Colorado': censusgeo((('state', '08'),)),\n",
       " 'Delaware': censusgeo((('state', '10'),)),\n",
       " 'District of Columbia': censusgeo((('state', '11'),)),\n",
       " 'Connecticut': censusgeo((('state', '09'),)),\n",
       " 'Florida': censusgeo((('state', '12'),)),\n",
       " 'Georgia': censusgeo((('state', '13'),)),\n",
       " 'Idaho': censusgeo((('state', '16'),)),\n",
       " 'Hawaii': censusgeo((('state', '15'),)),\n",
       " 'Illinois': censusgeo((('state', '17'),)),\n",
       " 'Indiana': censusgeo((('state', '18'),)),\n",
       " 'Iowa': censusgeo((('state', '19'),)),\n",
       " 'Kansas': censusgeo((('state', '20'),)),\n",
       " 'Kentucky': censusgeo((('state', '21'),)),\n",
       " 'Louisiana': censusgeo((('state', '22'),)),\n",
       " 'Maine': censusgeo((('state', '23'),)),\n",
       " 'Maryland': censusgeo((('state', '24'),)),\n",
       " 'Massachusetts': censusgeo((('state', '25'),)),\n",
       " 'Michigan': censusgeo((('state', '26'),)),\n",
       " 'Minnesota': censusgeo((('state', '27'),))}"
      ]
     },
     "execution_count": 7,
     "metadata": {},
     "output_type": "execute_result"
    }
   ],
   "source": [
    "censusdata.geographies(censusdata.censusgeo([('state', '*')]), 'acs5', 2015)"
   ]
  },
  {
   "cell_type": "markdown",
   "metadata": {},
   "source": [
    "The state FIPS code for Missouri is 29. With this information, we can get the county FIPS code for Missouri using the same censusdata.censusgeo function, but we will be adding a parameter for county.The county FIPS code that we are interested in is the FIPS code for St. Louis City. "
   ]
  },
  {
   "cell_type": "code",
   "execution_count": 8,
   "metadata": {},
   "outputs": [
    {
     "data": {
      "text/plain": [
       "{'Madison County, Missouri': censusgeo((('state', '29'), ('county', '123'))),\n",
       " 'Vernon County, Missouri': censusgeo((('state', '29'), ('county', '217'))),\n",
       " 'Nodaway County, Missouri': censusgeo((('state', '29'), ('county', '147'))),\n",
       " 'Chariton County, Missouri': censusgeo((('state', '29'), ('county', '041'))),\n",
       " 'Wayne County, Missouri': censusgeo((('state', '29'), ('county', '223'))),\n",
       " 'Scott County, Missouri': censusgeo((('state', '29'), ('county', '201'))),\n",
       " 'Barton County, Missouri': censusgeo((('state', '29'), ('county', '011'))),\n",
       " 'Cedar County, Missouri': censusgeo((('state', '29'), ('county', '039'))),\n",
       " 'Gasconade County, Missouri': censusgeo((('state', '29'), ('county', '073'))),\n",
       " 'Macon County, Missouri': censusgeo((('state', '29'), ('county', '121'))),\n",
       " 'Oregon County, Missouri': censusgeo((('state', '29'), ('county', '149'))),\n",
       " 'Ste. Genevieve County, Missouri': censusgeo((('state', '29'), ('county', '186'))),\n",
       " 'Douglas County, Missouri': censusgeo((('state', '29'), ('county', '067'))),\n",
       " 'Lawrence County, Missouri': censusgeo((('state', '29'), ('county', '109'))),\n",
       " 'Pulaski County, Missouri': censusgeo((('state', '29'), ('county', '169'))),\n",
       " 'Texas County, Missouri': censusgeo((('state', '29'), ('county', '215'))),\n",
       " 'Callaway County, Missouri': censusgeo((('state', '29'), ('county', '027'))),\n",
       " 'Cooper County, Missouri': censusgeo((('state', '29'), ('county', '053'))),\n",
       " 'Gentry County, Missouri': censusgeo((('state', '29'), ('county', '075'))),\n",
       " 'Mississippi County, Missouri': censusgeo((('state', '29'), ('county', '133'))),\n",
       " 'Ozark County, Missouri': censusgeo((('state', '29'), ('county', '153'))),\n",
       " 'Bollinger County, Missouri': censusgeo((('state', '29'), ('county', '017'))),\n",
       " 'Knox County, Missouri': censusgeo((('state', '29'), ('county', '103'))),\n",
       " 'Montgomery County, Missouri': censusgeo((('state', '29'), ('county', '139'))),\n",
       " 'Stoddard County, Missouri': censusgeo((('state', '29'), ('county', '207'))),\n",
       " 'Audrain County, Missouri': censusgeo((('state', '29'), ('county', '007'))),\n",
       " 'Greene County, Missouri': censusgeo((('state', '29'), ('county', '077'))),\n",
       " 'St. Clair County, Missouri': censusgeo((('state', '29'), ('county', '185'))),\n",
       " 'Schuyler County, Missouri': censusgeo((('state', '29'), ('county', '197'))),\n",
       " 'Camden County, Missouri': censusgeo((('state', '29'), ('county', '029'))),\n",
       " 'Jefferson County, Missouri': censusgeo((('state', '29'), ('county', '099'))),\n",
       " 'New Madrid County, Missouri': censusgeo((('state', '29'), ('county', '143'))),\n",
       " 'Ralls County, Missouri': censusgeo((('state', '29'), ('county', '173'))),\n",
       " 'Henry County, Missouri': censusgeo((('state', '29'), ('county', '083'))),\n",
       " 'Franklin County, Missouri': censusgeo((('state', '29'), ('county', '071'))),\n",
       " 'Mercer County, Missouri': censusgeo((('state', '29'), ('county', '129'))),\n",
       " 'Wright County, Missouri': censusgeo((('state', '29'), ('county', '229'))),\n",
       " 'Clay County, Missouri': censusgeo((('state', '29'), ('county', '047'))),\n",
       " 'Dent County, Missouri': censusgeo((('state', '29'), ('county', '065'))),\n",
       " 'Saline County, Missouri': censusgeo((('state', '29'), ('county', '195'))),\n",
       " 'Worth County, Missouri': censusgeo((('state', '29'), ('county', '227'))),\n",
       " 'Grundy County, Missouri': censusgeo((('state', '29'), ('county', '079'))),\n",
       " 'Morgan County, Missouri': censusgeo((('state', '29'), ('county', '141'))),\n",
       " 'Reynolds County, Missouri': censusgeo((('state', '29'), ('county', '179'))),\n",
       " 'St. Louis County, Missouri': censusgeo((('state', '29'), ('county', '189'))),\n",
       " 'Stone County, Missouri': censusgeo((('state', '29'), ('county', '209'))),\n",
       " 'Barry County, Missouri': censusgeo((('state', '29'), ('county', '009'))),\n",
       " 'Boone County, Missouri': censusgeo((('state', '29'), ('county', '019'))),\n",
       " 'Cole County, Missouri': censusgeo((('state', '29'), ('county', '051'))),\n",
       " 'Crawford County, Missouri': censusgeo((('state', '29'), ('county', '055'))),\n",
       " 'Iron County, Missouri': censusgeo((('state', '29'), ('county', '093'))),\n",
       " 'Livingston County, Missouri': censusgeo((('state', '29'), ('county', '117'))),\n",
       " 'Moniteau County, Missouri': censusgeo((('state', '29'), ('county', '135'))),\n",
       " 'Pemiscot County, Missouri': censusgeo((('state', '29'), ('county', '155'))),\n",
       " 'Pettis County, Missouri': censusgeo((('state', '29'), ('county', '159'))),\n",
       " 'Shannon County, Missouri': censusgeo((('state', '29'), ('county', '203'))),\n",
       " 'Randolph County, Missouri': censusgeo((('state', '29'), ('county', '175'))),\n",
       " 'Dunklin County, Missouri': censusgeo((('state', '29'), ('county', '069'))),\n",
       " 'Howard County, Missouri': censusgeo((('state', '29'), ('county', '089'))),\n",
       " 'Jackson County, Missouri': censusgeo((('state', '29'), ('county', '095'))),\n",
       " 'Miller County, Missouri': censusgeo((('state', '29'), ('county', '131'))),\n",
       " 'Putnam County, Missouri': censusgeo((('state', '29'), ('county', '171'))),\n",
       " 'Taney County, Missouri': censusgeo((('state', '29'), ('county', '213'))),\n",
       " 'Buchanan County, Missouri': censusgeo((('state', '29'), ('county', '021'))),\n",
       " 'Caldwell County, Missouri': censusgeo((('state', '29'), ('county', '025'))),\n",
       " 'Cass County, Missouri': censusgeo((('state', '29'), ('county', '037'))),\n",
       " 'Clinton County, Missouri': censusgeo((('state', '29'), ('county', '049'))),\n",
       " 'Dallas County, Missouri': censusgeo((('state', '29'), ('county', '059'))),\n",
       " 'Hickory County, Missouri': censusgeo((('state', '29'), ('county', '085'))),\n",
       " 'Lincoln County, Missouri': censusgeo((('state', '29'), ('county', '113'))),\n",
       " 'Monroe County, Missouri': censusgeo((('state', '29'), ('county', '137'))),\n",
       " 'Newton County, Missouri': censusgeo((('state', '29'), ('county', '145'))),\n",
       " 'Pike County, Missouri': censusgeo((('state', '29'), ('county', '163'))),\n",
       " 'St. Charles County, Missouri': censusgeo((('state', '29'), ('county', '183'))),\n",
       " 'Cape Girardeau County, Missouri': censusgeo((('state', '29'), ('county', '031'))),\n",
       " 'Shelby County, Missouri': censusgeo((('state', '29'), ('county', '205'))),\n",
       " 'Webster County, Missouri': censusgeo((('state', '29'), ('county', '225'))),\n",
       " 'Atchison County, Missouri': censusgeo((('state', '29'), ('county', '005'))),\n",
       " 'Bates County, Missouri': censusgeo((('state', '29'), ('county', '013'))),\n",
       " 'Benton County, Missouri': censusgeo((('state', '29'), ('county', '015'))),\n",
       " 'Carter County, Missouri': censusgeo((('state', '29'), ('county', '035'))),\n",
       " 'Dade County, Missouri': censusgeo((('state', '29'), ('county', '057'))),\n",
       " 'Linn County, Missouri': censusgeo((('state', '29'), ('county', '115'))),\n",
       " 'Howell County, Missouri': censusgeo((('state', '29'), ('county', '091'))),\n",
       " 'Johnson County, Missouri': censusgeo((('state', '29'), ('county', '101'))),\n",
       " 'Laclede County, Missouri': censusgeo((('state', '29'), ('county', '105'))),\n",
       " 'Maries County, Missouri': censusgeo((('state', '29'), ('county', '125'))),\n",
       " 'Phelps County, Missouri': censusgeo((('state', '29'), ('county', '161'))),\n",
       " 'Platte County, Missouri': censusgeo((('state', '29'), ('county', '165'))),\n",
       " 'St. Francois County, Missouri': censusgeo((('state', '29'), ('county', '187'))),\n",
       " 'St. Louis city, Missouri': censusgeo((('state', '29'), ('county', '510'))),\n",
       " 'Andrew County, Missouri': censusgeo((('state', '29'), ('county', '003'))),\n",
       " 'Butler County, Missouri': censusgeo((('state', '29'), ('county', '023'))),\n",
       " 'Carroll County, Missouri': censusgeo((('state', '29'), ('county', '033'))),\n",
       " 'Daviess County, Missouri': censusgeo((('state', '29'), ('county', '061'))),\n",
       " 'Holt County, Missouri': censusgeo((('state', '29'), ('county', '087'))),\n",
       " 'Marion County, Missouri': censusgeo((('state', '29'), ('county', '127'))),\n",
       " 'Osage County, Missouri': censusgeo((('state', '29'), ('county', '151'))),\n",
       " 'Ripley County, Missouri': censusgeo((('state', '29'), ('county', '181'))),\n",
       " 'Warren County, Missouri': censusgeo((('state', '29'), ('county', '219'))),\n",
       " 'Washington County, Missouri': censusgeo((('state', '29'), ('county', '221'))),\n",
       " 'Christian County, Missouri': censusgeo((('state', '29'), ('county', '043'))),\n",
       " 'DeKalb County, Missouri': censusgeo((('state', '29'), ('county', '063'))),\n",
       " 'Harrison County, Missouri': censusgeo((('state', '29'), ('county', '081'))),\n",
       " 'Lafayette County, Missouri': censusgeo((('state', '29'), ('county', '107'))),\n",
       " 'Adair County, Missouri': censusgeo((('state', '29'), ('county', '001'))),\n",
       " 'Scotland County, Missouri': censusgeo((('state', '29'), ('county', '199'))),\n",
       " 'Sullivan County, Missouri': censusgeo((('state', '29'), ('county', '211'))),\n",
       " 'Clark County, Missouri': censusgeo((('state', '29'), ('county', '045'))),\n",
       " 'Jasper County, Missouri': censusgeo((('state', '29'), ('county', '097'))),\n",
       " 'Lewis County, Missouri': censusgeo((('state', '29'), ('county', '111'))),\n",
       " 'Polk County, Missouri': censusgeo((('state', '29'), ('county', '167'))),\n",
       " 'Ray County, Missouri': censusgeo((('state', '29'), ('county', '177'))),\n",
       " 'McDonald County, Missouri': censusgeo((('state', '29'), ('county', '119'))),\n",
       " 'Perry County, Missouri': censusgeo((('state', '29'), ('county', '157')))}"
      ]
     },
     "execution_count": 8,
     "metadata": {},
     "output_type": "execute_result"
    }
   ],
   "source": [
    "censusdata.geographies(censusdata.censusgeo([('state','29'), ('county', '*')]), 'acs5', 2015)"
   ]
  },
  {
   "cell_type": "markdown",
   "metadata": {},
   "source": [
    "Based on this search, the county FIPS code for St. Louis City is 510."
   ]
  },
  {
   "cell_type": "markdown",
   "metadata": {},
   "source": [
    "# Getting specific variables for St. Louis City\n",
    "We are going to obtain variables based on employment and education status for St. Louis City by block groups. To do this, in the censusdta.censusgeo function, we need to specify the state and county FIPS codes. Since we want all of the census block groups, we will use the wild card operator."
   ]
  },
  {
   "cell_type": "code",
   "execution_count": 10,
   "metadata": {},
   "outputs": [],
   "source": [
    "stl_bg = censusdata.download('acs5', 2015,\n",
    "                             censusdata.censusgeo([('state', '29'), ('county', '510'), ('block group', '*')]),\n",
    "                             ['B23025_001E','B23025_002E', 'B23025_003E','B23025_004E', 'B23025_005E',\n",
    "                             'B23025_006E', 'B23025_007E', 'B15003_001E','B15003_002E', 'B15003_003E',\n",
    "                             'B15003_004E','B15003_005E','B15003_006E','B15003_007E','B15003_008E',\n",
    "                             'B15003_009E','B15003_010E','B15003_011E','B15003_012E','B15003_013E',\n",
    "                             'B15003_014E','B15003_015E','B15003_016E','B15003_017E','B15003_018E',\n",
    "                             'B15003_019E','B15003_020E','B15003_021E','B15003_022E','B15003_023E',\n",
    "                             'B15003_024E','B15003_025E'])"
   ]
  },
  {
   "cell_type": "markdown",
   "metadata": {},
   "source": [
    "We need to calculate the percent unemployed and the percentage of individuals with no high school education by block group. We will create new variables called 'percent unemployed' and 'percent_nohs' that can contain this data."
   ]
  },
  {
   "cell_type": "code",
   "execution_count": null,
   "metadata": {},
   "outputs": [],
   "source": [
    "stl_bg['percent_unemployed'] = stl_bg.B23025_005E / stl_bg.B23025_003E * 100"
   ]
  },
  {
   "cell_type": "code",
   "execution_count": null,
   "metadata": {},
   "outputs": [],
   "source": [
    "stl_bg['percent_nohs'] = (stl_bg.B15003_002E + stl_bg.B15003_003E + stl_bg.B15003_004E + \n",
    "                          stl_bg.B15003_005E + stl_bg.B15003_006E + stl_bg.B15003_007E + \n",
    "                          stl_bg.B15003_008E+ stl_bg.B15003_009E + stl_bg.B15003_010E + \n",
    "                          stl_bg.B15003_011E + stl_bg.B15003_012E+ stl_bg.B15003_013E + \n",
    "                          stl_bg.B15003_014E + stl_bg.B15003_015E + stl_bg.B15003_016E) / stl_bg.B15003_001E * 100"
   ]
  },
  {
   "cell_type": "markdown",
   "metadata": {},
   "source": [
    "The below code will select only the 'percent unemployed' and 'percent_nohs' variables and then will sort the variables in ascending order. The top 30 will only be displayed using the head function."
   ]
  },
  {
   "cell_type": "code",
   "execution_count": null,
   "metadata": {
    "scrolled": true
   },
   "outputs": [],
   "source": [
    "stl_bg = stl_bg[['percent_unemployed', 'percent_nohs']]\n",
    "stl_bg.sort_values('percent_unemployed', ascending=False).head(30)"
   ]
  },
  {
   "cell_type": "markdown",
   "metadata": {},
   "source": [
    "We will now export the data into a csv file."
   ]
  },
  {
   "cell_type": "code",
   "execution_count": null,
   "metadata": {},
   "outputs": [],
   "source": [
    "censusdata.exportcsv('stl_bg.csv', stl_bg)"
   ]
  },
  {
   "cell_type": "code",
   "execution_count": null,
   "metadata": {},
   "outputs": [],
   "source": []
  }
 ],
 "metadata": {
  "kernelspec": {
   "display_name": "Python 3",
   "language": "python",
   "name": "python3"
  },
  "language_info": {
   "codemirror_mode": {
    "name": "ipython",
    "version": 3
   },
   "file_extension": ".py",
   "mimetype": "text/x-python",
   "name": "python",
   "nbconvert_exporter": "python",
   "pygments_lexer": "ipython3",
   "version": "3.8.5"
  }
 },
 "nbformat": 4,
 "nbformat_minor": 4
}
